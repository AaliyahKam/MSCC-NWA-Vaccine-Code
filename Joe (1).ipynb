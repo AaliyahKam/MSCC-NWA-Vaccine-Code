{
  "nbformat": 4,
  "nbformat_minor": 0,
  "metadata": {
    "colab": {
      "provenance": []
    },
    "kernelspec": {
      "name": "python3",
      "display_name": "Python 3"
    },
    "language_info": {
      "name": "python"
    }
  },
  "cells": [
    {
      "cell_type": "code",
      "execution_count": null,
      "metadata": {
        "colab": {
          "base_uri": "https://localhost:8080/"
        },
        "id": "ycCh82KRE6OV",
        "outputId": "60c9411c-995e-46ea-e3fc-85c2e9392a15"
      },
      "outputs": [
        {
          "output_type": "stream",
          "name": "stdout",
          "text": [
            "Joe licked the door knob Susceptible\n",
            "6\n",
            "Joe is Infected\n",
            "joe is sick, day: 0\n",
            "joe is sick, day: 1\n",
            "joe is sick, day: 2\n",
            "joe is sick, day: 3\n",
            "joe is sick, day: 4\n",
            "Joe is mow Infected\n"
          ]
        }
      ],
      "source": [
        "import random\n",
        "\n",
        "state_of_joe = \"Susceptible\"\n",
        "print(\"Joe licked the door knob\", state_of_joe)\n",
        "# we need something to get us to susceptibility \n",
        "# we need a random number!\n",
        "chance_of_getting_sick = random.randint(0,100)\n",
        "print(chance_of_getting_sick)\n",
        "if (chance_of_getting_sick < 10):\n",
        "  state_of_joe = \"Infected\"\n",
        "  print(\"Joe is\", state_of_joe)\n",
        "\n",
        "if (state_of_joe == \"Infected\"):\n",
        "  for day in range(0,5):\n",
        "    print (\"joe is sick, day:\", day)\n",
        "\n",
        "  state_of_joe + \"Recovered\"\n",
        "  print (\"Joe is mow\", state_of_joe)\n",
        "\n"
      ]
    },
    {
      "cell_type": "code",
      "source": [
        "import random \n",
        "\n",
        "class Person():\n",
        "    def __init__(self):\n",
        "      self.current_state = \"Susceptible\"\n",
        "      self.days_sick = 0\n",
        "      self.is_sick = False\n",
        "      self.interactions = []\n",
        "\n",
        "    def get_current_state(self):\n",
        "     return self.current_state\n",
        "\n",
        "    def infect(self, days):\n",
        "        self.current_state = \"Infected\"\n",
        "        self.days_sick = days\n",
        "        self.is_sick = True\n",
        "\n",
        "    def update(self):\n",
        "      (self.current_state == \"Infected\")\n",
        "\n",
        "    ##If joe is sick, people he interact with might get sick\n",
        "      for p in self.interactions:\n",
        "        if (folkses.is_sick == False and folkses.current_state == \"Susceptible\"):\n",
        "          roll_for_infection = random.randint(0,100)\n",
        "          if (roll_for_infection <= 10):\n",
        "            folkses.infect = 5 \n",
        "\n",
        "    ##If joe is sick,we need to update joe's status\n",
        "        self.days_sick = self_days_sick - 1 \n",
        "        if (self.days_sick ==0):\n",
        "            self.current_state = \"Recovered\"\n",
        "            self.is_sick = False\n",
        "\n",
        "      def interacts_with(self, Person):\n",
        "        self.interactions.append(Person)\n",
        "\n",
        "      def clear_interactions(self):\n",
        "        self.interactions = []\n"
      ],
      "metadata": {
        "id": "K-EchHCAKanN"
      },
      "execution_count": null,
      "outputs": []
    },
    {
      "cell_type": "code",
      "source": [
        "Joe = Person()\n",
        "print(Joe.get_current_state())\n",
        "print(Joe.is_sick)\n",
        "print(Joe.days_sick)"
      ],
      "metadata": {
        "colab": {
          "base_uri": "https://localhost:8080/"
        },
        "id": "zLs4dkTUQ48J",
        "outputId": "cce5cde9-1efa-45e7-bb16-7118e1deedd3"
      },
      "execution_count": null,
      "outputs": [
        {
          "output_type": "stream",
          "name": "stdout",
          "text": [
            "Susceptible\n",
            "False\n",
            "0\n"
          ]
        }
      ]
    },
    {
      "cell_type": "code",
      "source": [
        "Joe.infect(5)\n",
        "print(Joe.get_current_state())\n",
        "print(Joe.is_sick)\n",
        "print(Joe.days_sick)"
      ],
      "metadata": {
        "colab": {
          "base_uri": "https://localhost:8080/"
        },
        "id": "n8LlOFp-SdT5",
        "outputId": "de66bca9-25fb-4060-a4ec-4a800e56d177"
      },
      "execution_count": null,
      "outputs": [
        {
          "output_type": "stream",
          "name": "stdout",
          "text": [
            "Infected\n",
            "True\n",
            "5\n"
          ]
        }
      ]
    },
    {
      "cell_type": "code",
      "source": [
        "Joe.update()\n",
        "print(Joe.get_current_state())\n",
        "print(Joe.is_sick)\n",
        "print(Joe.days_sick)"
      ],
      "metadata": {
        "id": "HpnkzFp4TSfx"
      },
      "execution_count": null,
      "outputs": []
    },
    {
      "cell_type": "code",
      "source": [],
      "metadata": {
        "id": "XDDH0ERQTfEj"
      },
      "execution_count": null,
      "outputs": []
    }
  ]
}